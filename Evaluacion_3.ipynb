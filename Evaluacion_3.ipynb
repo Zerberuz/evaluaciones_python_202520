{
  "nbformat": 4,
  "nbformat_minor": 0,
  "metadata": {
    "colab": {
      "provenance": [],
      "authorship_tag": "ABX9TyNrBM019El7j8qi7YcZBG4I",
      "include_colab_link": true
    },
    "kernelspec": {
      "name": "python3",
      "display_name": "Python 3"
    },
    "language_info": {
      "name": "python"
    }
  },
  "cells": [
    {
      "cell_type": "markdown",
      "metadata": {
        "id": "view-in-github",
        "colab_type": "text"
      },
      "source": [
        "<a href=\"https://colab.research.google.com/github/Zerberuz/evaluaciones_python_202520/blob/main/Evaluacion_3.ipynb\" target=\"_parent\"><img src=\"https://colab.research.google.com/assets/colab-badge.svg\" alt=\"Open In Colab\"/></a>"
      ]
    },
    {
      "cell_type": "markdown",
      "source": [
        "# Evaluacion 3\n",
        "## Python aplicado a la Ingeniería 202520\n",
        "**Docente:** Miguel Ortiz\n",
        "\n",
        "**Estudiante:** Camilo Ernesto Calderin Ogaza\n",
        "\n",
        "**email:** camilo.calderino@upb.edu.co\n",
        "\n",
        "**Fecha:** 10/09/2025"
      ],
      "metadata": {
        "id": "_ejJBKBmFYAe"
      }
    },
    {
      "cell_type": "markdown",
      "source": [
        "**Parte 1: Filtado de datos**"
      ],
      "metadata": {
        "id": "YSyhJBHEFgfy"
      }
    },
    {
      "cell_type": "code",
      "execution_count": 4,
      "metadata": {
        "colab": {
          "base_uri": "https://localhost:8080/"
        },
        "id": "Kn9lrns7FMTT",
        "outputId": "b1b3ffa9-dc56-4c5e-f9c9-c67f06a09838"
      },
      "outputs": [
        {
          "output_type": "stream",
          "name": "stdout",
          "text": [
            "(8785, 6)\n",
            "Numero total de filas: 8785\n",
            "Numero total de columnas: 6\n",
            "[[2.024e+03 1.000e+00 1.000e+00 0.000e+00 2.730e+01 0.000e+00]\n",
            " [2.024e+03 1.000e+00 1.000e+00 1.000e+00 2.680e+01 0.000e+00]\n",
            " [2.024e+03 1.000e+00 1.000e+00 2.000e+00 2.640e+01 0.000e+00]\n",
            " [2.024e+03 1.000e+00 1.000e+00 3.000e+00 2.610e+01 0.000e+00]\n",
            " [2.024e+03 1.000e+00 1.000e+00 4.000e+00 2.590e+01 0.000e+00]\n",
            " [2.024e+03 1.000e+00 1.000e+00 5.000e+00 2.560e+01 0.000e+00]\n",
            " [2.024e+03 1.000e+00 1.000e+00 6.000e+00 2.540e+01 0.000e+00]\n",
            " [2.024e+03 1.000e+00 1.000e+00 7.000e+00 2.520e+01 0.000e+00]\n",
            " [2.024e+03 1.000e+00 1.000e+00 8.000e+00 2.510e+01 0.000e+00]\n",
            " [2.024e+03 1.000e+00 1.000e+00 9.000e+00 2.490e+01 0.000e+00]\n",
            " [2.024e+03 1.000e+00 1.000e+00 1.000e+01 2.490e+01 0.000e+00]\n",
            " [2.024e+03 1.000e+00 1.000e+00 1.100e+01 2.550e+01 0.000e+00]\n",
            " [2.024e+03 1.000e+00 1.000e+00 1.200e+01 2.740e+01 8.000e+01]\n",
            " [2.024e+03 1.000e+00 1.000e+00 1.300e+01 2.940e+01 2.970e+02]\n",
            " [2.024e+03 1.000e+00 1.000e+00 1.400e+01 3.140e+01 4.680e+02]\n",
            " [2.024e+03 1.000e+00 1.000e+00 1.500e+01 3.330e+01 6.070e+02]\n",
            " [2.024e+03 1.000e+00 1.000e+00 1.600e+01 3.460e+01 6.270e+02]\n",
            " [2.024e+03 1.000e+00 1.000e+00 1.700e+01 3.520e+01 4.900e+02]\n",
            " [2.024e+03 1.000e+00 1.000e+00 1.800e+01 3.520e+01 4.530e+02]\n",
            " [2.024e+03 1.000e+00 1.000e+00 1.900e+01 3.440e+01 4.540e+02]\n",
            " [2.024e+03 1.000e+00 1.000e+00 2.000e+01 3.290e+01 5.310e+02]\n",
            " [2.024e+03 1.000e+00 1.000e+00 2.100e+01 3.120e+01 3.050e+02]\n",
            " [2.024e+03 1.000e+00 1.000e+00 2.200e+01 2.900e+01 1.410e+02]\n",
            " [2.024e+03 1.000e+00 1.000e+00 2.300e+01 2.780e+01 0.000e+00]]\n",
            "24\n",
            "Se encontraron en la fecha 1/1/2024 24 registros. \n",
            "El archivo filtered_data_2024_01_01.csv fue creado exitosamente\n",
            "Archivo verificado - datos correctos\n",
            "Prueba 1: Fecha existente\n",
            "Se cargaron 8785 registros\n",
            "El archivo no tiene el formato esperado\n",
            "\n",
            "Prueba 2: Fecha inexistente\n",
            "Se cargaron 8785 registros\n",
            "El archivo no tiene el formato esperado\n",
            "\n",
            "Prueba 3: Archivo inexistente\n",
            "No se encontró el archivo archivo_inexistente.csv\n",
            "\n",
            "Prueba 4: Primera fecha válida\n",
            "Se cargaron 8785 registros\n",
            "El archivo no tiene el formato esperado\n",
            "\n",
            "Prueba 4: Segunda fecha válida\n",
            "Se cargaron 8785 registros\n",
            "El archivo no tiene el formato esperado\n"
          ]
        }
      ],
      "source": [
        "import  numpy as np\n",
        "\n",
        "# Paso 1: Cargar los datos desde el archivo CSV\n",
        "data= np.genfromtxt('GHI_Temp_Daily_Hourly_2024.csv', skip_header=True, delimiter=';')\n",
        "\n",
        "# Paso 2: Verificar la carga de datos\n",
        "print(data.shape)\n",
        "print(f\"Numero total de filas: {data.shape[0]}\")\n",
        "print(f\"Numero total de columnas: {data.shape[1]}\")\n",
        "\n",
        "# Paso 3: Filtrar datos manualmente\n",
        "year=2024\n",
        "month=1\n",
        "day=1\n",
        "\n",
        "# Paso 4: Analizar los datos filtrados\n",
        "filtered_data = data[(data[:, 0] == year) & (data[:, 1] == month) & (data[:, 2] == day)]\n",
        "print(filtered_data)\n",
        "print(len(filtered_data))\n",
        "print(f\"Se encontraron en la fecha {day}/{month}/{year} {len(filtered_data)} registros. \")\n",
        "\n",
        "# Paso 5: Crear una función para filtrar datos por fecha\n",
        "def filter_data_by_date(filepatch, year, month, day):\n",
        "    data= np.genfromtxt(filepatch, skip_header=True, delimiter=';')\n",
        "    datos_filtrados = data[(data[:, 0] == year) & (data[:, 1] == month) & (data[:, 2] == day)]\n",
        "    if len(datos_filtrados) == 0:\n",
        "        print(f\"No se encontraron registros para la fecha {day}/{month}/{year}.\")\n",
        "    return datos_filtrados\n",
        "\n",
        "# Paso 6: Guardar los datos filtrados en un nuevo archivo CSV\n",
        "filename = f\"filtered_data_{year}_{month:02d}_{day:02d}.csv\"\n",
        "with open(filename, \"w\") as file:\n",
        "    file.write(\"Year,Month,Day,Hour,Temperature,GHI\\n\")\n",
        "    for row in filtered_data:\n",
        "        file.write(f\"{int(row[0])},{int(row[1])},{int(row[2])},{int(row[3])},{row[4]:.2f},{row[5]:.2f}\\n\")\n",
        "print(f\"El archivo {filename} fue creado exitosamente\")\n",
        "\n",
        "# Paso 7: Verificación\n",
        "result = filter_data_by_date('GHI_Temp_Daily_Hourly_2024.csv', 2024, 1, 1)\n",
        "print(\"Archivo verificado - datos correctos\")\n",
        "\n",
        "# Paso 8: Agregar manejo de errores\n",
        "def filter_data_by_date_improved(filepath, year, month, day):\n",
        "    try:\n",
        "        data = np.genfromtxt(filepath, skip_header=True, delimiter=',')\n",
        "        datos_filtrados = data[(data[:, 0] == year) & (data[:, 1] == month) & (data[:, 2] == day)]\n",
        "        if len(datos_filtrados) == 0:\n",
        "            print(\"No se encontraron datos para la fecha especificada\")\n",
        "            return\n",
        "        return\n",
        "\n",
        "    except FileNotFoundError:\n",
        "        print(f\"No se encontró el archivo {filepath}\")\n",
        "\n",
        "    except IndexError:\n",
        "        print(\"El archivo no tiene el formato esperado\")\n",
        "\n",
        "    except Exception as e:\n",
        "        print(\"Error inesperado\")\n",
        "        print(f\"Error específico: {e}\")\n",
        "\n",
        "# Paso 9: Agregar información adicional\n",
        "def filter_data_final(filepath, year, month, day):\n",
        "    #informacion de cuantos datos se cargaron\n",
        "    try:\n",
        "        data = np.genfromtxt(filepath, skip_header=True, delimiter=',')\n",
        "        print(f\"Se cargaron {len(data)} registros\")\n",
        "        datos_filtrados = data[(data[:, 0] == year) & (data[:, 1] == month) & (data[:, 2] == day)]\n",
        "\n",
        "        if len(datos_filtrados) == 0:\n",
        "            print(\"No se encontraron datos para la fecha especificada\")\n",
        "            return\n",
        "\n",
        "        #informacion relacionados con la temperatura (promedio en °C) y la radiación solar global (GHI máxima en W/m2)\n",
        "        temp_promedio = np.mean(datos_filtrados[:, 4])\n",
        "        ghi_maximo = np.max(datos_filtrados[:, 5])\n",
        "        print(f\"Temperatura promedio: {temp_promedio:.2f}°C\")\n",
        "        print(f\"GHI máximo: {ghi_maximo:.2f} W/m²\")\n",
        "\n",
        "        return datos_filtrados\n",
        "\n",
        "    except FileNotFoundError:\n",
        "        print(f\"No se encontró el archivo {filepath}\")\n",
        "    except IndexError:\n",
        "        print(\"El archivo no tiene el formato esperado\")\n",
        "    except Exception as e:\n",
        "        print(\"Error inesperado\")\n",
        "        print(f\"Error específico: {e}\")\n",
        "\n",
        "# Paso 10: Pruebas finales\n",
        "if __name__ == \"__main__\":\n",
        "    # Prueba con una fecha que existe en los datos\n",
        "    print(\"Prueba 1: Fecha existente\")\n",
        "    filter_data_final('GHI_Temp_Daily_Hourly_2024.csv', 2024, 1, 1)\n",
        "\n",
        "    # Prueba con una fecha que no existe (30 de febrero)\n",
        "    print(\"\\nPrueba 2: Fecha inexistente\")\n",
        "    filter_data_final('GHI_Temp_Daily_Hourly_2024.csv', 2025, 2, 30)\n",
        "\n",
        "    # Prueba con un nombre de archivo que no existe para verificar el manejo de errores\n",
        "    print(\"\\nPrueba 3: Archivo inexistente\")\n",
        "    filter_data_final('archivo_inexistente.csv', 2024, 1, 1)\n",
        "\n",
        "    # Prueba con al menos 2 fechas diferentes válidas\n",
        "    print(\"\\nPrueba 4: Primera fecha válida\")\n",
        "    filter_data_final('GHI_Temp_Daily_Hourly_2024.csv', 2024, 6, 15)\n",
        "    print(\"\\nPrueba 4: Segunda fecha válida\")\n",
        "    filter_data_final('GHI_Temp_Daily_Hourly_2024.csv', 2024, 10, 8)"
      ]
    },
    {
      "cell_type": "code",
      "source": [],
      "metadata": {
        "id": "muZDHMa5IW3z"
      },
      "execution_count": null,
      "outputs": []
    }
  ]
}